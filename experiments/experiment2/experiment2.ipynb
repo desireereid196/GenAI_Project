{
 "cells": [
  {
   "cell_type": "markdown",
   "id": "a025b2e8-ca62-4071-ab38-d0dcbd0de14b",
   "metadata": {},
   "source": [
    "# Experiment 2: Error Analysis\n",
    "\n",
    "__Objective:__ Qualitative analysis of bad predictions, noting confusing categories (i.e., missing objects, hallucinations, grammatical errors).\n",
    "\n",
    "__Research Question(s):__ \n",
    "* Where do modern generative captioning models hallucinate or misinterpret visual content?\n",
    "* What failure modes occur when captioning under visual ambiguity (e.g., occlusions, cluttered scenes, etc.)?"
   ]
  }
 ],
 "metadata": {
  "kernelspec": {
   "display_name": "northeastern",
   "language": "python",
   "name": "northeastern"
  },
  "language_info": {
   "codemirror_mode": {
    "name": "ipython",
    "version": 3
   },
   "file_extension": ".py",
   "mimetype": "text/x-python",
   "name": "python",
   "nbconvert_exporter": "python",
   "pygments_lexer": "ipython3",
   "version": "3.10.18"
  }
 },
 "nbformat": 4,
 "nbformat_minor": 5
}
