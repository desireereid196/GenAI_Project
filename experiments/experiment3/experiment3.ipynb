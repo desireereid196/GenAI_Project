{
 "cells": [
  {
   "cell_type": "markdown",
   "id": "a025b2e8-ca62-4071-ab38-d0dcbd0de14b",
   "metadata": {},
   "source": [
    "# Experiment 3: Semantic Fidelity Comparison\n",
    "\n",
    "__Objective:__ Compute the correlation between human judgement and traditional metrics (e.g. BLEU and METEOR,etc.) compare it to the correlation between human judgement and embedding-based metrics (e.g., BERTScore, CLIPScore, etc.). Optional: If time permits, compute correlation between human judgement and the visual attention map alignment, then compare against traditional and embedding-based metrics.\n",
    "\n",
    "__Research Question(s):__ Can embedding-based metrics or visual attention maps help quantify caption fidelity beyond BLEU and METEOR scores?"
   ]
  }
 ],
 "metadata": {
  "kernelspec": {
   "display_name": "northeastern",
   "language": "python",
   "name": "northeastern"
  },
  "language_info": {
   "codemirror_mode": {
    "name": "ipython",
    "version": 3
   },
   "file_extension": ".py",
   "mimetype": "text/x-python",
   "name": "python",
   "nbconvert_exporter": "python",
   "pygments_lexer": "ipython3",
   "version": "3.10.18"
  }
 },
 "nbformat": 4,
 "nbformat_minor": 5
}
