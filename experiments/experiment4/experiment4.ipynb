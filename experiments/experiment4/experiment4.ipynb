{
 "cells": [
  {
   "cell_type": "markdown",
   "id": "a025b2e8-ca62-4071-ab38-d0dcbd0de14b",
   "metadata": {},
   "source": [
    "# Experiment 4: Generalization\n",
    "\n",
    "__Objective:__ Assess the model's ability to generalize by evaluating its captioning performance on an out-of-domain dataset (e.g., Flickr30k) without additional fine-tuning. Performance will be measured using standard metrics (BLEU, METEOR, etc.) to determine how well the model transfers to visually and semantically diverse content beyond the training distribution.\n",
    "\n",
    "__Research Question(s):__ How accurately do image captioning models preserve the semantic content of an input image?"
   ]
  }
 ],
 "metadata": {
  "kernelspec": {
   "display_name": "northeastern",
   "language": "python",
   "name": "northeastern"
  },
  "language_info": {
   "codemirror_mode": {
    "name": "ipython",
    "version": 3
   },
   "file_extension": ".py",
   "mimetype": "text/x-python",
   "name": "python",
   "nbconvert_exporter": "python",
   "pygments_lexer": "ipython3",
   "version": "3.10.18"
  }
 },
 "nbformat": 4,
 "nbformat_minor": 5
}
